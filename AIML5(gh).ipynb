{
  "nbformat": 4,
  "nbformat_minor": 0,
  "metadata": {
    "colab": {
      "provenance": [],
      "authorship_tag": "ABX9TyMEeO3jddlkoRZmLF6A/mBR",
      "include_colab_link": true
    },
    "kernelspec": {
      "name": "python3",
      "display_name": "Python 3"
    },
    "language_info": {
      "name": "python"
    }
  },
  "cells": [
    {
      "cell_type": "markdown",
      "metadata": {
        "id": "view-in-github",
        "colab_type": "text"
      },
      "source": [
        "<a href=\"https://colab.research.google.com/github/MudigantiRuchitha/MudigantiRuchitha/blob/main/AIML5(gh).ipynb\" target=\"_parent\"><img src=\"https://colab.research.google.com/assets/colab-badge.svg\" alt=\"Open In Colab\"/></a>"
      ]
    },
    {
      "cell_type": "code",
      "execution_count": null,
      "metadata": {
        "id": "RS6545TmjSx-"
      },
      "outputs": [],
      "source": [
        "import pandas as pd\n",
        "import numpy as np\n",
        "import matplotlib.pyplot as plt\n",
        "import seaborn as sns"
      ]
    },
    {
      "cell_type": "code",
      "source": [
        "from google.colab import drive\n",
        "drive.mount('/content/drive')"
      ],
      "metadata": {
        "id": "ZCQnn5Z_jb4K"
      },
      "execution_count": null,
      "outputs": []
    },
    {
      "cell_type": "code",
      "source": [
        "file_path='/titanic_train.csv'"
      ],
      "metadata": {
        "id": "ZqQGw8Yajl-G"
      },
      "execution_count": null,
      "outputs": []
    },
    {
      "cell_type": "code",
      "source": [
        "train = pd.read_csv(file_path)\n",
        "train.tail()"
      ],
      "metadata": {
        "id": "Eg3oO05aj2XF"
      },
      "execution_count": null,
      "outputs": []
    },
    {
      "cell_type": "code",
      "source": [
        "train.info(verbose=True)"
      ],
      "metadata": {
        "id": "GxK-BXv7j5OO"
      },
      "execution_count": null,
      "outputs": []
    },
    {
      "cell_type": "code",
      "source": [
        "d=train.describe()\n",
        "d"
      ],
      "metadata": {
        "id": "knlF3r2-j9-W"
      },
      "execution_count": null,
      "outputs": []
    },
    {
      "cell_type": "code",
      "source": [
        "dT=d.T\n",
        "dT.plot.bar(y='count')\n",
        "plt.title(\"Bar plot of the count of numeric features\",fontsize=17)\n",
        "plt.show()"
      ],
      "metadata": {
        "id": "QteXXPXNkBUZ"
      },
      "execution_count": null,
      "outputs": []
    },
    {
      "cell_type": "code",
      "source": [
        "sns.set_style('whitegrid')\n",
        "sns.countplot(x='Survived',data=train,palette='RdBu_r')\n",
        "\n",
        "sns.pairplot(train)\n",
        "plt.show()"
      ],
      "metadata": {
        "id": "DOlxPB50kEwD"
      },
      "execution_count": null,
      "outputs": []
    },
    {
      "cell_type": "code",
      "source": [
        "sns.set_style('whitegrid')\n",
        "sns.countplot(x='Survived',hue='Sex',data=train,palette='RdBu_r')\n",
        "plt.show()"
      ],
      "metadata": {
        "id": "Kg3uJn3mkL1F"
      },
      "execution_count": null,
      "outputs": []
    },
    {
      "cell_type": "code",
      "source": [
        "f_class_survived=train.groupby('Pclass')['Survived'].mean()\n",
        "f_class_survived=pd.DataFrame(f_class_survived)\n",
        "f_class_survived\n",
        "f_class_survived.plot.bar(y='Survived')\n",
        "plt.title(\"Survival Rate by Passenger Class\",fontsize=17)\n",
        "plt.show()"
      ],
      "metadata": {
        "id": "dKtSmycvkQse"
      },
      "execution_count": null,
      "outputs": []
    },
    {
      "cell_type": "code",
      "source": [
        "sns.set_style('whitegrid')\n",
        "sns.countplot(x='Survived',hue='SibSp',data=train,palette='rainbow')\n",
        "plt.title(\"Survival Count Based on Number of Siblings/Spouses\",fontsize=17)\n",
        "plt.show()"
      ],
      "metadata": {
        "id": "4iPA4pSCkXip"
      },
      "execution_count": null,
      "outputs": []
    },
    {
      "cell_type": "code",
      "source": [
        "plt.xlabel(\"Age of the passengers\",fontsize=18)\n",
        "plt.ylabel(\"Count\",fontsize=18)\n",
        "plt.title(\"Histogram of the passengers\",fontsize=22)\n",
        "train['Age'].hist()\n",
        "plt.show()"
      ],
      "metadata": {
        "id": "ORKYrH-AkdW8"
      },
      "execution_count": null,
      "outputs": []
    },
    {
      "cell_type": "code",
      "source": [
        "plt.figure(figsize=(12,10))\n",
        "plt.xlabel(\"Passenger Class\",fontsize=18)\n",
        "plt.ylabel(\"Age\",fontsize=18)\n",
        "sns.boxplot(x='Pclass',y='Age',data=train,palette='winter')"
      ],
      "metadata": {
        "id": "C2tXbktOkhIZ"
      },
      "execution_count": null,
      "outputs": []
    },
    {
      "cell_type": "code",
      "source": [
        "f_class_Age=train.groupby('Pclass')['Age'].mean()\n",
        "f_class_Age=pd.DataFrame(f_class_Age)\n",
        "f_class_Age.plot.bar(y='Age')\n",
        "plt.title(\"Average Age of  Passenger by Class\",fontsize=17)\n",
        "plt.ylabel(\"Age(years)\",fontsize=17)\n",
        "plt.xlabel(\"Passenger class\",fontsize=17)\n",
        "plt.show()"
      ],
      "metadata": {
        "id": "mCGa0RyCktiy"
      },
      "execution_count": null,
      "outputs": []
    },
    {
      "cell_type": "code",
      "source": [
        "a=list(f_class_Age['Age'])\n",
        "\n",
        "def impute_age(cols):\n",
        "  Age=cols[0]\n",
        "    Pclass=cols[1]\n",
        "      if pd.isnull(Age):\n",
        "          if Pclass==1:\n",
        "                return a[0]\n",
        "                    elif Pclass==2:\n",
        "                            return a[1]\n",
        "                                else:\n",
        "                                        return a[2]\n",
        "                                          else:\n",
        "                                                return Age"
      ],
      "metadata": {
        "id": "jKgxasWikzHW"
      },
      "execution_count": null,
      "outputs": []
    },
    {
      "cell_type": "code",
      "source": [
        "train['Age']=train[['Age','Pclass']].apply(impute_age,axis=1)\n",
        "d=train.describe()\n",
        "dT=d.T\n",
        "dT.plot.bar(y='count')\n",
        "plt.title(\"Bar Plot of the Count of Numeric  features\",fontsize=17)\n",
        "plt.show()"
      ],
      "metadata": {
        "id": "2u7o5e7Yk13Q"
      },
      "execution_count": null,
      "outputs": []
    },
    {
      "cell_type": "code",
      "source": [
        "train.drop('Cabin',axis=1,inplace=True)\n",
        "train.dropna(inplace=True)\n",
        "train.head"
      ],
      "metadata": {
        "id": "sfJD6qJOk82i"
      },
      "execution_count": null,
      "outputs": []
    },
    {
      "cell_type": "code",
      "source": [
        "train.drop(['PassengerId','Name','Ticket'],axis=1,inplace=True)\n",
        "train.dropna(inplace=True)\n",
        "train.head()"
      ],
      "metadata": {
        "id": "d1F8SJOnlC-k"
      },
      "execution_count": null,
      "outputs": []
    },
    {
      "cell_type": "code",
      "source": [
        "sex=pd.get_dummies(train ['Sex'],drop_first=True)\n",
        "embark=pd.get_dummies(train['Embarked'],drop_first=True)"
      ],
      "metadata": {
        "id": "HWc2xDadlIqB"
      },
      "execution_count": null,
      "outputs": []
    },
    {
      "cell_type": "code",
      "source": [
        "train.drop(['Sex','Embarked'],axis=1,inplace=True)\n",
        "train=pd.concat([train,sex,embark],axis=1)\n",
        "train.head()"
      ],
      "metadata": {
        "id": "Ykfkmdb2lM8V"
      },
      "execution_count": null,
      "outputs": []
    },
    {
      "cell_type": "code",
      "source": [
        "from sklearn.model_selection import train_test_split\n",
        "X_train,X_test,y_train,y_test=train_test_split(\n",
        "    train.drop('Survived',axis=1),\n",
        "        train['Survived'],\n",
        "            test_size=0.30,\n",
        "                random_state=111\n",
        "                )"
      ],
      "metadata": {
        "id": "A5gnArVglRC-"
      },
      "execution_count": null,
      "outputs": []
    },
    {
      "cell_type": "code",
      "source": [
        "from sklearn.linear_model import LogisticRegression\n",
        "from sklearn.metrics import classification_report\n",
        "nsimu = 201\n",
        "penalty = [0] * nsimu\n",
        "logmodel = [0] * nsimu\n",
        "predictions = [0] * nsimu\n",
        "class_report = [0] * nsimu\n",
        "f1 = [0] * nsimu\n",
        "for i in range(1, nsimu):\n",
        "  logmodel[i] = LogisticRegression(C=i/1000, tol=1e-4, max_iter=int(1e6), n_jobs =4)\n",
        "    logmodel[i].fit(X_train, y_train)\n",
        "      predictions[i] = logmodel[i].predict(X_test)\n",
        "        class_report[i] = classification_report(y_test, predictions[i])\n",
        "          l = class_report[i].split()\n",
        "            f1[i] = l[len(l)-2]\n",
        "              penalty[i] = 1000/i\n",
        "              plt.scatter(penalty[1:len(penalty) - 2], f1[1:len(f1) - 2])\n",
        "              plt.title(\"F1-score vs. Regularization Parameter\", fontsize=20)\n",
        "              plt.xlabel(\"Penalty Parameter\", fontsize=17)\n",
        "              plt.ylabel(\"F1-score on Test Data\", fontsize=17)\n",
        "              plt.show()"
      ],
      "metadata": {
        "id": "LfwaQO1plSpC"
      },
      "execution_count": null,
      "outputs": []
    }
  ]
}