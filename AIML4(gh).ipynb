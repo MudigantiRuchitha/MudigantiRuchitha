{
  "nbformat": 4,
  "nbformat_minor": 0,
  "metadata": {
    "colab": {
      "provenance": [],
      "authorship_tag": "ABX9TyPPa/6E58ZmrwVNFkGjq1yU",
      "include_colab_link": true
    },
    "kernelspec": {
      "name": "python3",
      "display_name": "Python 3"
    },
    "language_info": {
      "name": "python"
    }
  },
  "cells": [
    {
      "cell_type": "markdown",
      "metadata": {
        "id": "view-in-github",
        "colab_type": "text"
      },
      "source": [
        "<a href=\"https://colab.research.google.com/github/MudigantiRuchitha/MudigantiRuchitha/blob/main/AIML4(gh).ipynb\" target=\"_parent\"><img src=\"https://colab.research.google.com/assets/colab-badge.svg\" alt=\"Open In Colab\"/></a>"
      ]
    },
    {
      "cell_type": "code",
      "execution_count": null,
      "metadata": {
        "id": "dMv3xmDWgaV-"
      },
      "outputs": [],
      "source": [
        "import numpy as np\n",
        "import pandas as pd\n",
        "import matplotlib.pyplot as plt\n",
        "import seaborn as sns"
      ]
    },
    {
      "cell_type": "code",
      "source": [
        "from google.colab import drive\n",
        "drive.mount('/content/drive')"
      ],
      "metadata": {
        "id": "QSeH4-Hzgj4w"
      },
      "execution_count": null,
      "outputs": []
    },
    {
      "cell_type": "code",
      "source": [
        "file_path = '/USA_Housing.csv'"
      ],
      "metadata": {
        "id": "EPW2nnU9gmTJ"
      },
      "execution_count": null,
      "outputs": []
    },
    {
      "cell_type": "code",
      "source": [
        "df = pd.read_csv(file_path)\n",
        "df.head()"
      ],
      "metadata": {
        "id": "t4QzFI35gpkB"
      },
      "execution_count": null,
      "outputs": []
    },
    {
      "cell_type": "code",
      "source": [
        "df.info(verbose=True)"
      ],
      "metadata": {
        "id": "C27a00c7gxiJ"
      },
      "execution_count": null,
      "outputs": []
    },
    {
      "cell_type": "code",
      "source": [
        "df .describe(percentiles=[0.1,0.25,0.5,0.75,0.9])"
      ],
      "metadata": {
        "id": "eYiiBdQTgy8b"
      },
      "execution_count": null,
      "outputs": []
    },
    {
      "cell_type": "code",
      "source": [
        "df.columns"
      ],
      "metadata": {
        "id": "yHVZdfwyg13e"
      },
      "execution_count": null,
      "outputs": []
    },
    {
      "cell_type": "code",
      "source": [
        "sns.pairplot(df)"
      ],
      "metadata": {
        "id": "rHht4ZkIg7RO"
      },
      "execution_count": null,
      "outputs": []
    },
    {
      "cell_type": "code",
      "source": [
        "df['Price'].plot.hist(bins=25,figsize=(8,4))"
      ],
      "metadata": {
        "id": "KR7aaS46g90j"
      },
      "execution_count": null,
      "outputs": []
    },
    {
      "cell_type": "code",
      "source": [
        "df['Price'].plot.density()"
      ],
      "metadata": {
        "id": "RlXu_vt2hEA9"
      },
      "execution_count": null,
      "outputs": []
    },
    {
      "cell_type": "code",
      "source": [
        "df_cleaned=df.drop(columns=['Address'])"
      ],
      "metadata": {
        "id": "V_MSI_i_hE_V"
      },
      "execution_count": null,
      "outputs": []
    },
    {
      "cell_type": "code",
      "source": [
        "df_cleaned.corr()"
      ],
      "metadata": {
        "id": "iajTpXcGhLfy"
      },
      "execution_count": null,
      "outputs": []
    },
    {
      "cell_type": "code",
      "source": [
        "plt.figure(figsize=(10,7))\n",
        "sns.heatmap(df_cleaned.corr(),annot=True,linewidths=2)"
      ],
      "metadata": {
        "id": "F1dCOtIahSIE"
      },
      "execution_count": null,
      "outputs": []
    },
    {
      "cell_type": "code",
      "source": [
        "l_column = list(df.columns)\n",
        "len_feature= len(l_column)\n",
        "l_column"
      ],
      "metadata": {
        "id": "u1A5SUxIhV09"
      },
      "execution_count": null,
      "outputs": []
    },
    {
      "cell_type": "code",
      "source": [
        "x=df[l_column[0:len_feature-2]]\n",
        "y=df[l_column[len_feature-2]]"
      ],
      "metadata": {
        "id": "p6eKLz9qhXJT"
      },
      "execution_count": null,
      "outputs": []
    },
    {
      "cell_type": "code",
      "source": [
        "print(\"Feature set size:\",x.shape)\n",
        "print(\"Variable set size:\",y.shape)"
      ],
      "metadata": {
        "id": "OZFzN57NhcTu"
      },
      "execution_count": null,
      "outputs": []
    },
    {
      "cell_type": "code",
      "source": [
        "x.head()"
      ],
      "metadata": {
        "id": "qOQVgJ62hdqL"
      },
      "execution_count": null,
      "outputs": []
    },
    {
      "cell_type": "code",
      "source": [
        "from sklearn.model_selection import train_test_split"
      ],
      "metadata": {
        "id": "vSd0OuVXhmK4"
      },
      "execution_count": null,
      "outputs": []
    },
    {
      "cell_type": "code",
      "source": [
        "x_train,x_test,y_train,y_test = train_test_split(x,y,test_size=0.3,random_state=123)"
      ],
      "metadata": {
        "id": "9FW_RRWghqFR"
      },
      "execution_count": null,
      "outputs": []
    },
    {
      "cell_type": "code",
      "source": [
        "print(\"Training feature set size:\",x_train.shape)\n",
        "print(\"Test Feature set size:\",x_test.shape)\n",
        "print(\"Training variable set size:\",y_train.shape)\n",
        "print(\"Test variable set size:\",y_test.shape)"
      ],
      "metadata": {
        "id": "gsPbgyLWhrEf"
      },
      "execution_count": null,
      "outputs": []
    },
    {
      "cell_type": "code",
      "source": [
        "from sklearn.linear_model import LinearRegression\n",
        "from sklearn import metrics"
      ],
      "metadata": {
        "id": "uiY20O_Vhwq2"
      },
      "execution_count": null,
      "outputs": []
    },
    {
      "cell_type": "code",
      "source": [
        "lm=LinearRegression()\n",
        "\n",
        "\n",
        "lm.fit(x_train,y_train)"
      ],
      "metadata": {
        "id": "qULkMxdKhz3O"
      },
      "execution_count": null,
      "outputs": []
    },
    {
      "cell_type": "code",
      "source": [
        "print(\"The intercept term of the linear model:\",lm.intercept_)"
      ],
      "metadata": {
        "id": "ckyCLgIWh3Nf"
      },
      "execution_count": null,
      "outputs": []
    },
    {
      "cell_type": "code",
      "source": [
        "cdf = pd.DataFrame(data=lm.coef_,index=x_train.columns,columns=[\"Coefficients\"])\n",
        "cdf"
      ],
      "metadata": {
        "id": "c5r-QgNwh9Jf"
      },
      "execution_count": null,
      "outputs": []
    },
    {
      "cell_type": "code",
      "source": [
        "n = x_train.shape[0]\n",
        "k = x_train.shape[1]\n",
        "dfN = n - k\n",
        "\n",
        "train_pred = lm.predict(x_train)\n",
        "train_error = np.square(train_pred - y_train)\n",
        "sum_error = np.sum(train_error)\n",
        "\n",
        "se = [0,0,0,0,0]\n",
        "\n",
        "for i in range(k):\n",
        "  r = (sum_error / dfN)\n",
        "    r = r / np.sum(np.square(x_train[list(x_train.columns)[i]] - x_train[list(x_train.columns)[i]].mean()))\n",
        "      se[i] = np.sqrt(r)\n",
        "\n",
        "      cdf['Standard Error'] = se\n",
        "      cdf['t-Statistic'] = cdf['Coefficients'] / cdf['Standard Error']\n",
        "      cdf"
      ],
      "metadata": {
        "id": "MPDa3J2LiBgu"
      },
      "execution_count": null,
      "outputs": []
    },
    {
      "cell_type": "code",
      "source": [
        "print(\"Therefore,features arranged in the order of importance for predicting the house price\\n\",'-'*90,sep='')\n",
        "l=list (cdf.sort_values('t-statistic',ascending=False).index)\n",
        "\n",
        "\n",
        "print(' > \\n'.join(l))"
      ],
      "metadata": {
        "id": "C1pOsSV2iEsj"
      },
      "execution_count": null,
      "outputs": []
    },
    {
      "cell_type": "code",
      "source": [
        "l=list(cdf.index)\n",
        "\n",
        "from matplotlib import gridspec\n",
        "fig= plt.figure(figsize=(18,10))\n",
        "gs=gridspec.GridSpec(2,3)\n",
        "\n",
        "ax0=plt.subplot(gs[0])\n",
        "ax0.scatter(df[l[0]],df['Price'])\n",
        "ax0.set_title(l[0] + \"vs.Price\",fontdict={'fontsize':20})\n",
        "\n",
        "ax1=plt.subplot(gs[1])\n",
        "ax1.scatter(df[l[1]],df['Price'])\n",
        "ax1.set_title(l[1]+\"vs.price\",fontdict={'fontsize':20})\n",
        "\n",
        "ax2=plt.subplot(gs[2])\n",
        "ax2.scatter(df[l[2]],df['Price'])\n",
        "ax2.set_title(l[2]+\"vs.price\",fontdict={'fontsize':20})\n",
        "\n",
        "\n",
        "ax3=plt.subplot(gs[3])\n",
        "ax3.scatter(df[l[3]],df['Price'])\n",
        "ax3.set_title(l[3]+\"vs.price\",fontdict={'fontsize':20})"
      ],
      "metadata": {
        "id": "cOaz8lOUiH4B"
      },
      "execution_count": null,
      "outputs": []
    },
    {
      "cell_type": "code",
      "source": [
        "print(\"R-squared value of this fit:\",round(metrics.r2_score(y_train,train_pred),3))"
      ],
      "metadata": {
        "id": "k3WlEs_aiQe7"
      },
      "execution_count": null,
      "outputs": []
    },
    {
      "cell_type": "code",
      "source": [
        "predictions=lm.predict(x_test)\n",
        "print(\"Type of the predicted object:\",type(predictions))\n",
        "\n",
        "print(\"size of the predicted object:\",predictions.shape)"
      ],
      "metadata": {
        "id": "MRq6H9qniUCI"
      },
      "execution_count": null,
      "outputs": []
    },
    {
      "cell_type": "code",
      "source": [
        "plt.figure(figsize=(10,7))\n",
        "plt.title(\"Actual vs.predicted house prices\",fontsize=25)\n",
        "plt.xlabel(\"Actual test set house prices\",fontsize=25)\n",
        "plt.ylabel(\"predicted house prices\",fontsize=18)\n",
        "plt.scatter (x=y_test,y=predictions)"
      ],
      "metadata": {
        "id": "cX5siTySiVXS"
      },
      "execution_count": null,
      "outputs": []
    },
    {
      "cell_type": "code",
      "source": [
        "plt.figure (figsize=(10,7))\n",
        "plt.title(\"Histogram of residuals to check for normality\",fontsize=25)\n",
        "plt.xlabel(\"Residuals\",fontsize=18)\n",
        "plt.ylabel(\"kernel density\",fontsize=18)\n",
        "sns.histplot([y_test - predictions],kde=True)"
      ],
      "metadata": {
        "id": "mGi37BuNia5D"
      },
      "execution_count": null,
      "outputs": []
    },
    {
      "cell_type": "code",
      "source": [
        "plt.figure(figsize=(10,7))\n",
        "plt.title(\"Residuals vs.predicted values plot(Homoscedasticity)\\n\",fontsize=25)\n",
        "plt.xlabel(\"Predicted house prices\",fontsize=18)\n",
        "plt.ylabel(\"Residuals\",fontsize=18)\n",
        "plt.scatter(x=predictions,y=y_test - predictions)"
      ],
      "metadata": {
        "id": "9gYjeH93igY0"
      },
      "execution_count": null,
      "outputs": []
    }
  ]
}